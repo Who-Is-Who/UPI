{
 "cells": [
  {
   "cell_type": "code",
   "execution_count": 5,
   "metadata": {},
   "outputs": [
    {
     "name": "stdout",
     "output_type": "stream",
     "text": [
      "ФИО студента: Самсонов Ярополк Артурович\n",
      "Предмет: построить\n",
      "Оценки: [4, 5, 5, 5]\n",
      "Средний балл: 4.75\n"
     ]
    }
   ],
   "source": [
    "import pandas as pd\n",
    "import ast\n",
    "\n",
    "# Загрузка данных из Excel файла\n",
    "df = pd.read_excel('студенты_30.xlsx')\n",
    "\n",
    "# Преобразовать строки со списками оценок в списки Python\n",
    "df['Оценки'] = df['Оценки'].apply(ast.literal_eval)\n",
    "\n",
    "# Вычислить средний балл для каждого студента\n",
    "df['Средний балл'] = df['Оценки'].apply(lambda x: sum(x) / len(x) if len(x) > 0 else 0)\n",
    "\n",
    "# Найти студента с наивысшей успеваемостью (с наивысшим средним баллом)\n",
    "студент_с_лучшей_успеваемостью = df.iloc[df['Средний балл'].idxmax()]\n",
    "\n",
    "# Вывести ФИО, предмет и оценки студента с наивысшей успеваемостью\n",
    "print(\"ФИО студента:\", студент_с_лучшей_успеваемостью['ФИО'])\n",
    "print(\"Предмет:\", студент_с_лучшей_успеваемостью['Предмет'])\n",
    "print(\"Оценки:\", студент_с_лучшей_успеваемостью['Оценки'])\n",
    "print(\"Средний балл:\", студент_с_лучшей_успеваемостью['Средний балл'])\n"
   ]
  }
 ],
 "metadata": {
  "kernelspec": {
   "display_name": "Python 3",
   "language": "python",
   "name": "python3"
  },
  "language_info": {
   "codemirror_mode": {
    "name": "ipython",
    "version": 3
   },
   "file_extension": ".py",
   "mimetype": "text/x-python",
   "name": "python",
   "nbconvert_exporter": "python",
   "pygments_lexer": "ipython3",
   "version": "3.12.0"
  }
 },
 "nbformat": 4,
 "nbformat_minor": 2
}
