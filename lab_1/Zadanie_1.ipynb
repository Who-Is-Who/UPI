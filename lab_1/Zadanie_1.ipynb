{
 "cells": [
  {
   "cell_type": "code",
   "execution_count": 3,
   "metadata": {},
   "outputs": [],
   "source": [
    "def ToUpper(char):\n",
    "    # Проверяем, является ли символ строчной буквой латинского алфавита.\n",
    "    if 'a' <= char <= 'z':\n",
    "        # Если символ строчный, используем функцию ord() для получения кода символа,\n",
    "        # вычитаем код строчной буквы 'a', прибавляем код заглавной буквы 'A'\n",
    "        # и затем используем функцию chr() для получения соответствующего символа.\n",
    "        return chr(ord(char) - ord('a') + ord('A'))\n",
    "    else:\n",
    "        # Если символ не строчный, то возвращаем его без изменений.\n",
    "        return char"
   ]
  },
  {
   "cell_type": "code",
   "execution_count": 4,
   "metadata": {},
   "outputs": [
    {
     "name": "stdout",
     "output_type": "stream",
     "text": [
      "A\n"
     ]
    }
   ],
   "source": [
    "# Пример использования функции\n",
    "print(ToUpper('a'))  # Выведет 'A'"
   ]
  }
 ],
 "metadata": {
  "kernelspec": {
   "display_name": "Python 3",
   "language": "python",
   "name": "python3"
  },
  "language_info": {
   "codemirror_mode": {
    "name": "ipython",
    "version": 3
   },
   "file_extension": ".py",
   "mimetype": "text/x-python",
   "name": "python",
   "nbconvert_exporter": "python",
   "pygments_lexer": "ipython3",
   "version": "3.12.0"
  }
 },
 "nbformat": 4,
 "nbformat_minor": 2
}
